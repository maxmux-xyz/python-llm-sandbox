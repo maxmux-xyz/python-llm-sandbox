{
 "cells": [
  {
   "cell_type": "code",
   "execution_count": 1,
   "metadata": {},
   "outputs": [],
   "source": [
    "import os\n",
    "from typing import Annotated\n",
    "from typing_extensions import TypedDict\n",
    "from langgraph.graph import StateGraph, START\n",
    "from langgraph.graph.message import add_messages\n",
    "from langchain_openai import ChatOpenAI\n",
    "from langchain_tavily import TavilySearch\n",
    "from langgraph.prebuilt import ToolNode, tools_condition\n",
    "\n",
    "from dotenv import load_dotenv\n",
    "\n",
    "load_dotenv() \n",
    "os.environ[\"LANGCHAIN_TRACING_V2\"] = \"true\""
   ]
  },
  {
   "cell_type": "code",
   "execution_count": 2,
   "metadata": {},
   "outputs": [],
   "source": [
    "search_tool = TavilySearch(\n",
    "  tavily_api_key=os.getenv(\"TAVILY_API_KEY\"),\n",
    "  max_results=5,\n",
    "  topic=\"news\",\n",
    ")"
   ]
  },
  {
   "cell_type": "code",
   "execution_count": 3,
   "metadata": {},
   "outputs": [
    {
     "data": {
      "text/plain": [
       "{'query': 'Chelsea last results in EPL?',\n",
       " 'follow_up_questions': None,\n",
       " 'answer': None,\n",
       " 'images': [],\n",
       " 'results': [{'title': \"Latest Chelsea Scores: Scores from all Chelsea's Premier League games ...\",\n",
       "   'url': 'https://www.sportingnews.com/us/soccer/chelsea/scores',\n",
       "   'content': 'Follow all the scores from Chelsea with real-time Premier League scores, live match updates, and final results right here on Sporting News. Crafted for fans since 1886. Company. About Us',\n",
       "   'score': 0.5637388,\n",
       "   'raw_content': None},\n",
       "  {'title': 'Chelsea FC Scores, Results & Season Archives | Premier League',\n",
       "   'url': 'https://www.premierleague.com/clubs/4/Chelsea/results',\n",
       "   'content': 'View scores, results & season archives, for all competitions involving Chelsea FC, on the official website of the Premier League.',\n",
       "   'score': 0.512376,\n",
       "   'raw_content': None},\n",
       "  {'title': 'Chelsea FC Team News, Fixtures & Results 2024/2025 | Premier League',\n",
       "   'url': 'https://www.premierleague.com/clubs/4/Chelsea/overview',\n",
       "   'content': 'For the latest news on Chelsea FC, including scores, fixtures, team news, results, form guide & league position, visit the official website of the Premier League.',\n",
       "   'score': 0.49348235,\n",
       "   'raw_content': None},\n",
       "  {'title': 'Fixtures & Results - Chelsea Football Club',\n",
       "   'url': 'https://www.chelseafc.com/en/matches/mens-fixtures-and-results?tab=Results',\n",
       "   'content': \"Men's Fixtures & Results | Fixtures Results and Tables | Official Site | Chelsea Football Club Chelsea Foundation Latest Latest News Fixtures/Results/Tables Buy Tickets Latest News Women's Team Women's Team Fixtures/Results/Tables Buying Women's Tickets Guide Latest News About Chelsea Women A Champions League quarter-final under the Lights at Stamford Bridge...secure your seat to Chelsea vs Manchester City now! Tickets & Hospitality Buy Tickets Memberships & Season Tickets Other Ticket Information My Tickets Account All Our Ticket Types Ticket touting information and guidance club chelsea Matchday Hospitality Annual Hospitality Contact Hospitality Fixtures & Results Chelsea Football Club About The Club Get unrivalled access to all things Chelsea with the Official Chelsea App... Privacy Policy Cookies Policy Sustainability Policy © 2025 Chelsea FC.\",\n",
       "   'score': 0.43929082,\n",
       "   'raw_content': None},\n",
       "  {'title': \"Men's Fixtures & Results - Chelsea Football Club\",\n",
       "   'url': 'https://www.chelseafc.com/en/matches/mens-fixtures-and-results',\n",
       "   'content': \"Men's Fixtures & Results | Fixtures Results and Tables | Official Site | Chelsea Football Club Chelsea Foundation Latest Latest News Fixtures/Results/Tables Buy Tickets Latest News Women's Team Women's Team Fixtures/Results/Tables Buying Women's Tickets Guide Latest News About Chelsea Women A Champions League quarter-final under the Lights at Stamford Bridge...secure your seat to Chelsea vs Manchester City now! Tickets & Hospitality Buy Tickets Memberships & Season Tickets Other Ticket Information My Tickets Account All Our Ticket Types Ticket touting information and guidance club chelsea Matchday Hospitality Annual Hospitality Contact Hospitality Fixtures & Results Chelsea Football Club About The Club Get unrivalled access to all things Chelsea with the Official Chelsea App... Privacy Policy Cookies Policy Sustainability Policy © 2025 Chelsea FC.\",\n",
       "   'score': 0.40967003,\n",
       "   'raw_content': None}],\n",
       " 'response_time': 1.92}"
      ]
     },
     "execution_count": 3,
     "metadata": {},
     "output_type": "execute_result"
    }
   ],
   "source": [
    "search_tool.invoke(\"Chelsea last results in EPL?\")"
   ]
  },
  {
   "cell_type": "code",
   "execution_count": 3,
   "metadata": {},
   "outputs": [],
   "source": [
    "class State(TypedDict):\n",
    "    messages: Annotated[list, add_messages]\n",
    "\n",
    "graph_builder = StateGraph(State)"
   ]
  },
  {
   "cell_type": "code",
   "execution_count": 4,
   "metadata": {},
   "outputs": [],
   "source": [
    "llm = ChatOpenAI(\n",
    "  model=\"deepseek/deepseek-r1\",\n",
    "  temperature=0,\n",
    "  openai_api_key=os.getenv(\"OPENROUTER_API_KEY\"),\n",
    "  base_url=\"https://openrouter.ai/api/v1\",\n",
    ")\n"
   ]
  },
  {
   "cell_type": "code",
   "execution_count": 5,
   "metadata": {},
   "outputs": [],
   "source": [
    "class LLMNode:\n",
    "  def __init__(self, llm: ChatOpenAI):\n",
    "    self.llm = llm\n",
    "\n",
    "  def __call__(self, state: State):\n",
    "    return {'messages': [self.llm.invoke(state['messages'])]}\n",
    "  \n",
    "llm_node = LLMNode(llm.bind_tools([search_tool]))"
   ]
  },
  {
   "cell_type": "code",
   "execution_count": 6,
   "metadata": {},
   "outputs": [],
   "source": [
    "tool_node = ToolNode([search_tool])"
   ]
  },
  {
   "cell_type": "code",
   "execution_count": 7,
   "metadata": {},
   "outputs": [
    {
     "data": {
      "text/plain": [
       "<langgraph.graph.state.StateGraph at 0x11f58e870>"
      ]
     },
     "execution_count": 7,
     "metadata": {},
     "output_type": "execute_result"
    }
   ],
   "source": [
    "graph_builder.add_node('llm', llm_node)\n",
    "graph_builder.add_node('tools', tool_node)\n",
    "\n",
    "graph_builder.add_edge(START, 'llm')\n",
    "graph_builder.add_conditional_edges('llm', tools_condition)\n",
    "graph_builder.add_edge('tools', 'llm')"
   ]
  },
  {
   "cell_type": "code",
   "execution_count": 8,
   "metadata": {},
   "outputs": [],
   "source": [
    "agent = graph_builder.compile()"
   ]
  },
  {
   "cell_type": "code",
   "execution_count": 9,
   "metadata": {},
   "outputs": [
    {
     "data": {
      "image/png": "[encoded data removed]",
      "text/plain": [
       "<IPython.core.display.Image object>"
      ]
     },
     "metadata": {},
     "output_type": "display_data"
    }
   ],
   "source": [
    "from IPython.display import Image, display\n",
    "display(Image(agent.get_graph().draw_mermaid_png()))"
   ]
  },
  {
   "cell_type": "code",
   "execution_count": 10,
   "metadata": {},
   "outputs": [],
   "source": [
    "# for m in llm.stream(\"Chelsea last results in EPL?\"):\n",
    "#   print(m.content, end=\"\")"
   ]
  },
  {
   "cell_type": "code",
   "execution_count": 11,
   "metadata": {},
   "outputs": [
    {
     "name": "stdout",
     "output_type": "stream",
     "text": [
      "================================\u001b[1m Human Message \u001b[0m=================================\n",
      "\n",
      "Can you research Hopper to Blackwell semiconductor transition? Nvidia is changing it's product line and I want to understand why?\n",
      "==================================\u001b[1m Ai Message \u001b[0m==================================\n",
      "Tool Calls:\n",
      "  tavily_search (call_d5wsok3x9af9k7go6s54z6wf)\n",
      " Call ID: call_d5wsok3x9af9k7go6s54z6wf\n",
      "  Args:\n",
      "    query: Nvidia Hopper to Blackwell semiconductor transition reasons\n",
      "    include_domains: ['nvidia.com', 'tomshardware.com', 'arstechnica.com', 'anandtech.com', 'techcrunch.com', 'wired.com']\n",
      "    search_depth: advanced\n",
      "    time_range: month\n",
      "    topic: general\n",
      "=================================\u001b[1m Tool Message \u001b[0m=================================\n",
      "Name: tavily_search\n",
      "\n",
      "{\"query\": \"Nvidia Hopper to Blackwell semiconductor transition reasons\", \"follow_up_questions\": null, \"answer\": null, \"images\": [], \"results\": [{\"url\": \"https://developer.nvidia.com/blog/nvidia-blackwell-delivers-world-record-deepseek-r1-inference-performance/\", \"title\": \"NVIDIA Blackwell Delivers World-Record DeepSeek-R1 ...\", \"content\": \"The Blackwell architecture coupled with TensorRT software enables significant inference performance improvements compared to the Hopper architecture. This performance increase comes from the significantly greater compute performance, memory bandwidth, and optimized software stack to achieve excellent delivered performance. [...] The NVIDIA TensorRT ecosystem is designed to enable developers to optimize their production inference deployments on NVIDIA GPUs. It contains multiple libraries that enable the preparation, acceleration, and deployment of AI models—all of which are now ready to run on the latest NVIDIA Blackwell architecture. This shows the continuously large performance improvements compared to the prior-generation NVIDIA Hopper architecture. [...] These Blackwell advancements include up to 5x more AI compute with fifth-generation Tensor Cores with FP4 acceleration, 2x the NVIDIA NVLink bandwidth compared to the prior generation with fifth-generation NVLink and NVLink Switch, and scalability to much larger NVLink domains. These performance improvements, both on a per-chip basis and at data center scale, are critical enablers of high throughput, low latency inference for cutting-edge LLMs, like DeepSeek-R1.\", \"score\": 0.6877354, \"raw_content\": null}, {\"url\": \"https://www.tomshardware.com/tech-industry/nvidias-jesnen-huang-expects-gaa-based-technologies-to-bring-a-20-percent-performance-uplift\", \"title\": \"Nvidia's Jensen Huang expects GAA-based technologies ...\", \"content\": \"Unlike Apple, which is TSMC's alpha customer for all leading-edge nodes, Nvidia is not typically a company that adopts TSMC's latest process technologies first. Instead, it uses proven technologies. Nvidia has used tailored versions of TSMC's 4nm-class process technologies — 4N and 4NP — to produce its Ada Lovelace, Hopper, and Blackwell GPUs for client PCs and datacenters. TSMC's 4nm-class production nodes belong to the company's 5nm-class process development kit and are essentially refined [...] When asked about future generation Nvidia GPU architectures like Feynman, which is expected two generations from now (2028), Huang mentioned that if Nvidia transitions to a process technology that relies on GAA transistors, it should bring a 20% increase in performance. [...] While Nvidia is one of the leading developers of processors these days, Jensen Huang emphasized multiple times that his company is not simply a semiconductor company anymore. Instead, he described the company as a provider of large-scale AI infrastructure. He also described it as a leader in algorithm development, especially for computer graphics, robotics, and fields like computational lithography.\", \"score\": 0.43395805, \"raw_content\": null}, {\"url\": \"https://www.nvidia.com/en-us/software/run-ai/\", \"title\": \"Accelerate AI & Machine Learning Workflows | NVIDIA Run:ai\", \"content\": \"Graphics Cards and GPUs\\nBlackwell Architecture The engine of the new industrial revolutionHopper Architecture High performance, scalability, and security for every data centerAda Lovelace Architecture Performance and energy efficiency for endless possibilitiesGeForce RTX graphics cards bring game-changing AI capabilitiesNVIDIA RTX PRO Accelerating professional AI, graphics, rendering and compute workloadsVirtual GPU Virtual solutions for scalable, high-performance computing\\nLaptops [...] Technologies\\nTechnologies\\nNVIDIA Blackwell Architecture\\nNVIDIA Hopper Architecture\\nNVIDIA Ada Lovelace Architecture\\nMGX\\nConfidential Computing\\nMulti-Instance GPU\\nNVLink-C2C\\nNVLink/NVSwitch\\nTensor Cores [...] GeForce NOW Cloud Gaming RTX-powered cloud gaming. Choose from 3 memberships\\nNVIDIA App Optimize gaming, streaming, and AI-powered creativity\\nNVIDIA Broadcast App AI-enhanced voice and video for next-level streams, videos, and calls\\nSHIELD TV World-class streaming media performance\\nGraphics Cards and GPUs\\nBlackwell Architecture The engine of the new industrial revolution\\nHopper Architecture High performance, scalability, and security for every data center\", \"score\": 0.35066646, \"raw_content\": null}, {\"url\": \"https://www.nvidia.com/en-us/industries/telecommunications/ai-factories/\", \"title\": \"Deploy Sovereign AI on Trusted Telecoms Infrastructure\", \"content\": \"NVIDIA HGX™ and NVIDIA GH200 Grace Hopper™ Superchip systems enable service providers, including telecom operators, to build large multi-tenant AI factory\", \"score\": 0.15902172, \"raw_content\": null}, {\"url\": \"https://developer.nvidia.com/blog/\", \"title\": \"NVIDIA Technical Blog\", \"content\": \"NVIDIA is breaking new ground by integrating silicon photonics directly with its NVIDIA Quantum and NVIDIA Spectrum switch ICs. ... Powered by NVIDIA Blackwell,\", \"score\": 0.15831774, \"raw_content\": null}], \"response_time\": 3.39}\n",
      "==================================\u001b[1m Ai Message \u001b[0m==================================\n",
      "\n",
      "Nvidia's transition from Hopper to Blackwell architectures is driven by several strategic and technological advancements aimed at maintaining leadership in AI infrastructure. Here's a concise breakdown:\n",
      "\n",
      "### Key Reasons for the Transition:\n",
      "1. **Performance Leap**:\n",
      "   - **5x AI Compute Boost**: Blackwell's fifth-gen Tensor Cores with FP4 acceleration dramatically enhance AI inference performance, critical for large language models (LLMs) like DeepSeek-R1.\n",
      "   - **2x NVLink Bandwidth**: Improved interconnectivity supports larger-scale AI deployments with lower latency and higher throughput.\n",
      "\n",
      "2. **Energy Efficiency**:\n",
      "   - Optimized software (e.g., TensorRT) and hardware advancements reduce power consumption per computation, vital for cost-effective data center operations.\n",
      "\n",
      "3. **Scalability**:\n",
      "   - Enhanced NVLink domains and multi-instance GPU support enable seamless scaling for massive AI workloads, meeting the demands of modern industrial and research applications.\n",
      "\n",
      "4. **Strategic AI Infrastructure Focus**:\n",
      "   - Nvidia positions itself as a provider of end-to-end AI solutions, not just chips. Blackwell’s architecture supports this vision by integrating advanced compute, memory, and software ecosystems tailored for AI factories and sovereign AI deployments.\n",
      "\n",
      "5. **Proven Process Technology**:\n",
      "   - Using TSMC’s mature 4nm-class nodes (4N/4NP) ensures reliability while delivering performance gains, aligning with Nvidia’s preference for stable, production-ready technologies.\n",
      "\n",
      "### Implications:\n",
      "- Blackwell enables faster, more efficient training and inference for cutting-edge AI models, solidifying Nvidia’s dominance in AI hardware.\n",
      "- The transition reflects a broader shift toward scalable, energy-efficient infrastructure to support global AI adoption across industries.\n",
      "\n",
      "In summary, the move to Blackwell underscores Nvidia’s commitment to pushing AI innovation while balancing performance, scalability, and practicality.\n"
     ]
    }
   ],
   "source": [
    "for step in agent.stream(\n",
    "  {\"messages\":\"Can you research Hopper to Blackwell semiconductor transition? Nvidia is changing it's product line and I want to understand why?\"},\n",
    "   stream_mode=\"values\"\n",
    "):\n",
    "  step['messages'][-1].pretty_print()"
   ]
  },
  {
   "cell_type": "code",
   "execution_count": null,
   "metadata": {},
   "outputs": [],
   "source": []
  }
 ],
 "metadata": {
  "kernelspec": {
   "display_name": "Python 3",
   "language": "python",
   "name": "python3"
  },
  "language_info": {
   "codemirror_mode": {
    "name": "ipython",
    "version": 3
   },
   "file_extension": ".py",
   "mimetype": "text/x-python",
   "name": "python",
   "nbconvert_exporter": "python",
   "pygments_lexer": "ipython3",
   "version": "3.12.9"
  }
 },
 "nbformat": 4,
 "nbformat_minor": 2
}
