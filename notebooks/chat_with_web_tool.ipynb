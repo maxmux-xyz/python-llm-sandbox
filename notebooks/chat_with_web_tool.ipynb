{
 "cells": [
  {
   "cell_type": "code",
   "execution_count": 1,
   "metadata": {},
   "outputs": [
    {
     "data": {
      "text/plain": [
       "True"
      ]
     },
     "execution_count": 1,
     "metadata": {},
     "output_type": "execute_result"
    }
   ],
   "source": [
    "import os\n",
    "from typing import Annotated\n",
    "from typing_extensions import TypedDict\n",
    "from langgraph.graph import StateGraph, START\n",
    "from langgraph.graph.message import add_messages\n",
    "from langchain_openai import ChatOpenAI\n",
    "from langchain_tavily import TavilySearch\n",
    "from langgraph.prebuilt import ToolNode, tools_condition\n",
    "\n",
    "from dotenv import load_dotenv\n",
    "\n",
    "load_dotenv() "
   ]
  },
  {
   "cell_type": "code",
   "execution_count": 2,
   "metadata": {},
   "outputs": [],
   "source": [
    "search_tool = TavilySearch(\n",
    "  tavily_api_key=os.getenv(\"TAVILY_API_KEY\"),\n",
    "  max_results=5,\n",
    "  topic=\"news\",\n",
    ")"
   ]
  },
  {
   "cell_type": "code",
   "execution_count": 3,
   "metadata": {},
   "outputs": [
    {
     "data": {
      "text/plain": [
       "{'query': 'Chelsea last results in EPL?',\n",
       " 'follow_up_questions': None,\n",
       " 'answer': None,\n",
       " 'images': [],\n",
       " 'results': [{'title': \"Latest Chelsea Scores: Scores from all Chelsea's Premier League games ...\",\n",
       "   'url': 'https://www.sportingnews.com/us/soccer/chelsea/scores',\n",
       "   'content': 'Follow all the scores from Chelsea with real-time Premier League scores, live match updates, and final results right here on Sporting News. Crafted for fans since 1886. Company. About Us',\n",
       "   'score': 0.5637388,\n",
       "   'raw_content': None},\n",
       "  {'title': 'Chelsea FC Scores, Results & Season Archives | Premier League',\n",
       "   'url': 'https://www.premierleague.com/clubs/4/Chelsea/results',\n",
       "   'content': 'View scores, results & season archives, for all competitions involving Chelsea FC, on the official website of the Premier League.',\n",
       "   'score': 0.512376,\n",
       "   'raw_content': None},\n",
       "  {'title': 'Chelsea FC Team News, Fixtures & Results 2024/2025 | Premier League',\n",
       "   'url': 'https://www.premierleague.com/clubs/4/Chelsea/overview',\n",
       "   'content': 'For the latest news on Chelsea FC, including scores, fixtures, team news, results, form guide & league position, visit the official website of the Premier League.',\n",
       "   'score': 0.49348235,\n",
       "   'raw_content': None},\n",
       "  {'title': 'Fixtures & Results - Chelsea Football Club',\n",
       "   'url': 'https://www.chelseafc.com/en/matches/mens-fixtures-and-results?tab=Results',\n",
       "   'content': \"Men's Fixtures & Results | Fixtures Results and Tables | Official Site | Chelsea Football Club Chelsea Foundation Latest Latest News Fixtures/Results/Tables Buy Tickets Latest News Women's Team Women's Team Fixtures/Results/Tables Buying Women's Tickets Guide Latest News About Chelsea Women A Champions League quarter-final under the Lights at Stamford Bridge...secure your seat to Chelsea vs Manchester City now! Tickets & Hospitality Buy Tickets Memberships & Season Tickets Other Ticket Information My Tickets Account All Our Ticket Types Ticket touting information and guidance club chelsea Matchday Hospitality Annual Hospitality Contact Hospitality Fixtures & Results Chelsea Football Club About The Club Get unrivalled access to all things Chelsea with the Official Chelsea App... Privacy Policy Cookies Policy Sustainability Policy © 2025 Chelsea FC.\",\n",
       "   'score': 0.43929082,\n",
       "   'raw_content': None},\n",
       "  {'title': \"Men's Fixtures & Results - Chelsea Football Club\",\n",
       "   'url': 'https://www.chelseafc.com/en/matches/mens-fixtures-and-results',\n",
       "   'content': \"Men's Fixtures & Results | Fixtures Results and Tables | Official Site | Chelsea Football Club Chelsea Foundation Latest Latest News Fixtures/Results/Tables Buy Tickets Latest News Women's Team Women's Team Fixtures/Results/Tables Buying Women's Tickets Guide Latest News About Chelsea Women A Champions League quarter-final under the Lights at Stamford Bridge...secure your seat to Chelsea vs Manchester City now! Tickets & Hospitality Buy Tickets Memberships & Season Tickets Other Ticket Information My Tickets Account All Our Ticket Types Ticket touting information and guidance club chelsea Matchday Hospitality Annual Hospitality Contact Hospitality Fixtures & Results Chelsea Football Club About The Club Get unrivalled access to all things Chelsea with the Official Chelsea App... Privacy Policy Cookies Policy Sustainability Policy © 2025 Chelsea FC.\",\n",
       "   'score': 0.40967003,\n",
       "   'raw_content': None}],\n",
       " 'response_time': 1.92}"
      ]
     },
     "execution_count": 3,
     "metadata": {},
     "output_type": "execute_result"
    }
   ],
   "source": [
    "search_tool.invoke(\"Chelsea last results in EPL?\")"
   ]
  },
  {
   "cell_type": "code",
   "execution_count": 4,
   "metadata": {},
   "outputs": [],
   "source": [
    "class State(TypedDict):\n",
    "    messages: Annotated[list, add_messages]\n",
    "\n",
    "graph_builder = StateGraph(State)"
   ]
  },
  {
   "cell_type": "code",
   "execution_count": 5,
   "metadata": {},
   "outputs": [],
   "source": [
    "llm = ChatOpenAI(\n",
    "  model=\"deepseek/deepseek-r1\",\n",
    "  temperature=0,\n",
    "  openai_api_key=os.getenv(\"OPENROUTER_API_KEY\"),\n",
    "  base_url=\"https://openrouter.ai/api/v1\",\n",
    ")\n"
   ]
  },
  {
   "cell_type": "code",
   "execution_count": 6,
   "metadata": {},
   "outputs": [],
   "source": [
    "class LLMNode:\n",
    "  def __init__(self, llm: ChatOpenAI):\n",
    "    self.llm = llm\n",
    "\n",
    "  def __call__(self, state: State):\n",
    "    return {'messages': [self.llm.invoke(state['messages'])]}\n",
    "  \n",
    "llm_node = LLMNode(llm.bind_tools([search_tool]))"
   ]
  },
  {
   "cell_type": "code",
   "execution_count": 7,
   "metadata": {},
   "outputs": [],
   "source": [
    "tool_node = ToolNode([search_tool])"
   ]
  },
  {
   "cell_type": "code",
   "execution_count": 8,
   "metadata": {},
   "outputs": [
    {
     "data": {
      "text/plain": [
       "<langgraph.graph.state.StateGraph at 0x11349c680>"
      ]
     },
     "execution_count": 8,
     "metadata": {},
     "output_type": "execute_result"
    }
   ],
   "source": [
    "graph_builder.add_node('llm', llm_node)\n",
    "graph_builder.add_node('tools', tool_node)\n",
    "\n",
    "graph_builder.add_edge(START, 'llm')\n",
    "graph_builder.add_conditional_edges('llm', tools_condition)\n",
    "graph_builder.add_edge('tools', 'llm')"
   ]
  },
  {
   "cell_type": "code",
   "execution_count": 9,
   "metadata": {},
   "outputs": [],
   "source": [
    "agent = graph_builder.compile()"
   ]
  },
  {
   "cell_type": "code",
   "execution_count": 10,
   "metadata": {},
   "outputs": [
    {
     "data": {
      "image/png": "[encoded data removed]",
      "text/plain": [
       "<IPython.core.display.Image object>"
      ]
     },
     "metadata": {},
     "output_type": "display_data"
    }
   ],
   "source": [
    "from IPython.display import Image, display\n",
    "display(Image(agent.get_graph().draw_mermaid_png()))"
   ]
  },
  {
   "cell_type": "code",
   "execution_count": 11,
   "metadata": {},
   "outputs": [
    {
     "name": "stdout",
     "output_type": "stream",
     "text": [
      "Chelsea's most recent results in the English Premier League (EPL) as of the conclusion of the 2023-2024 season include:\n",
      "\n",
      "- **May 19, 2024**: Chelsea 2-1 Bournemouth (Win)  \n",
      "- **May 15, 2024**: Brighton 1-2 Chelsea (Win)  \n",
      "- **May 11, 2024**: Aston Villa 2-2 Chelsea (Draw)  \n",
      "- **May 5, 2024**: Nottingham Forest 1-0 Chelsea (Loss)  \n",
      "- **April 30, 2024**: Chelsea 5-0 West Ham (Win)  \n",
      "\n",
      "Their final match of the season was a **2-1 victory over Bournemouth**, securing a 6th-place finish and qualification for European competition. For real-time updates, always refer to official Premier League sources or trusted sports news platforms."
     ]
    }
   ],
   "source": [
    "for m in llm.stream(\"Chelsea last results in EPL?\"):\n",
    "  print(m.content, end=\"\")"
   ]
  },
  {
   "cell_type": "code",
   "execution_count": 13,
   "metadata": {},
   "outputs": [
    {
     "name": "stdout",
     "output_type": "stream",
     "text": [
      "================================\u001b[1m Human Message \u001b[0m=================================\n",
      "\n",
      "Can you research Hopper to Blackwell semiconductor transition? Nvidia is changing it's product line and I want to understand why?\n",
      "==================================\u001b[1m Ai Message \u001b[0m==================================\n",
      "Tool Calls:\n",
      "  tavily_search (call_91k76ubct1zg7f0ynq8l64cp)\n",
      " Call ID: call_91k76ubct1zg7f0ynq8l64cp\n",
      "  Args:\n",
      "    query: Nvidia Hopper to Blackwell semiconductor transition reasons\n",
      "    include_domains: ['nvidia.com', 'techcrunch.com', 'anandtech.com', 'tomshardware.com', 'arstechnica.com']\n",
      "    search_depth: advanced\n",
      "    topic: general\n",
      "=================================\u001b[1m Tool Message \u001b[0m=================================\n",
      "Name: tavily_search\n",
      "\n",
      "{\"query\": \"Nvidia Hopper to Blackwell semiconductor transition reasons\", \"follow_up_questions\": null, \"answer\": null, \"images\": [], \"results\": [{\"url\": \"https://www.tomshardware.com/pc-components/gpus/nvidias-next-gen-ai-gpu-revealed-blackwell-b200-gpu-delivers-up-to-20-petaflops-of-compute-and-massive-improvements-over-hopper-h100\", \"title\": \"Nvidia's next-gen AI GPU is 4X faster than Hopper\", \"content\": \"The reason for this dual-die configuration is simple: Blackwell B200 will use TSMC’s 4NP process node, a refined version of the 4N process used by the existing Hopper H100 and Ada Lovelace architecture GPUs. We don’t have a ton of details on TSMC 4NP, but it likely doesn’t offer a major improvement in feature density, which means if you want a more powerful chip, you need a way to go bigger. That’s difficult as H100 was basically already a full reticle size chip — it has a die size of 814 mm2, [...] It's a safe bet that things aren't going to slow down any time soon with Blackwell. Nvidia has more than doubled down on the GPU size, with dual chips and major overhauls to the underlying hardware. The Grace Blackwell GB200 superchip also represents another doubling down, with two full B200 GPUs paired to a single Grace CPU for the \\\"superchip\\\" module. Blackwell is also designed to scale to much larger installations than Hopper, enabling ever larger AI models. [...] Now, let’s talk about some of the caveats. First and foremost, as the rumors have indicated, Blackwell B200 is not a single GPU in the traditional sense. Instead, it’s comprised of two tightly coupled die, though they do function as one unified CUDA GPU according to Nvidia. The two chips are linked via a 10 TB/s NV-HBI (Nvidia High Bandwidth Interface) connection to ensure they can properly function as a single fully coherent chip.\", \"score\": 0.7769112, \"raw_content\": null}, {\"url\": \"https://www.anandtech.com/show/21310/nvidia-blackwell-architecture-and-b200b100-accelerators-announced-going-bigger-with-smaller-data\", \"title\": \"NVIDIA Blackwell Architecture and B200/B100 ...\", \"content\": \"As I wrote back during the Hopper launch, “NVIDIA has developed a very solid playbook for how to tackle the server GPU industry. On the hardware side of matters that essentially boils down to correctly identifying current and future trends as well as customer needs in high performance accelerators, investing in the hardware needed to handle those workloads at great speeds, and then optimizing the heck out of all of it.” And that mentality has not changed for Blackwell. NVIDIA has improved every [...] One of NVIDIA’s big wins with Hopper, architecturally speaking, was their decision to optimize their architecture for transformer-type models with the inclusion of specialized hardware – which NVIDIA calls their Transformer Engine. By taking advantage of the fact that transformers don’t need to process all of their weighs and parameters at a high precision (FP16), NVIDIA added support for mixing those operations with lower precision (FP8) operations to cut down on memory needs and improve [...] Named after Dr. David Harold Blackwell, an American statistics and mathematics pioneer, who, among other things, wrote the first Bayesian statistics textbook, the Blackwell architecture is once again NVIDIA doubling down on many of the company’s trademark architectural designs, looking to find ways to work smarter and work harder in order to boost the performance of their all-important datacenter/HPC accelerators. NVIDIA has a very good thing going with Hopper (and Ampere before it), and at a\", \"score\": 0.70799106, \"raw_content\": null}, {\"url\": \"https://www.tomshardware.com/tech-industry/nvidia-shifts-to-cowos-l-packaging-for-blackwell-gpu-production-ramp-up\", \"title\": \"Nvidia shifts to CoWoS-L packaging for Blackwell GPU ...\", \"content\": \"As Nvidia ramps up production of its multi-chiplet Blackwell-series products, the company will use more CoWoS-L packaging capacity and less CoWoS-S packaging\", \"score\": 0.6191726, \"raw_content\": null}, {\"url\": \"https://nvidianews.nvidia.com/news/nvidia-blackwell-platform-arrives-to-power-a-new-era-of-computing\", \"title\": \"NVIDIA Blackwell Platform Arrives to Power a New Era of ...\", \"content\": \"Andy Jassy, president and CEO of Amazon: “Our deep collaboration with NVIDIA goes back more than 13 years, when we launched the world’s first GPU cloud instance on AWS. Today we offer the widest range of GPU solutions available anywhere in the cloud, supporting the world’s most technologically advanced accelerated workloads. It's why the new NVIDIA Blackwell GPU will run so well on AWS and the reason that NVIDIA chose AWS to co-develop Project Ceiba, combining NVIDIA’s next-generation Grace [...] market acceptance of our products or our partners' products; design, manufacturing or software defects; changes in consumer preferences or demands; changes in industry standards and interfaces; unexpected loss of performance of our products or technologies when integrated into systems; as well as other factors detailed from time to time in the most recent reports NVIDIA files with the Securities and Exchange Commission, or SEC, including, but not limited to, its annual report on Form 10-K and [...] market acceptance of our products or our partners' products; design, manufacturing or software defects; changes in consumer preferences or demands; changes in industry standards and interfaces; unexpected loss of performance of our products or technologies when integrated into systems; as well as other factors detailed from time to time in the most recent reports NVIDIA files with the Securities and Exchange Commission, or SEC, including, but not limited to, its annual report on Form 10-K and\", \"score\": 0.55478466, \"raw_content\": null}, {\"url\": \"https://images.nvidia.com/aem-dam/Solutions/geforce/blackwell/nvidia-rtx-blackwell-gpu-architecture.pdf\", \"title\": \"NVIDIA RTX BLACKWELL GPU ARCHITECTURE\", \"content\": \"entire memory clock tree can be gated for the first time. A new voltage rail has been added to provide power separately to both the GPU Cores and memory system Separate rails allow independent voltage control of large areas of the chip which can be optimized per-workload, which boosts performance. It also allows Blackwell to shut down unused portions of the chip during small periods of idle, reducing leakage power. With the Blackwell design, rail-gated states can be entered at a frame\", \"score\": 0.4651208, \"raw_content\": null}], \"response_time\": 3.63}\n",
      "==================================\u001b[1m Ai Message \u001b[0m==================================\n",
      "\n",
      "Nvidia's transition from Hopper to Blackwell semiconductors is driven by several strategic and technological factors aimed at maintaining leadership in AI and high-performance computing:\n",
      "\n",
      "1. **Performance Demands of AI Models**:  \n",
      "   - Blackwell GPUs like the B200 offer **4× faster AI training** and **30× faster inference** compared to Hopper, addressing the exponential growth in computational needs for large language models (LLMs) and generative AI.  \n",
      "   - The dual-die design (two GPUs linked via a 10 TB/s NV-HBI interface) allows Blackwell to function as a unified, massive GPU, overcoming the physical limits of single-die scaling. This is critical for training trillion-parameter models.\n",
      "\n",
      "2. **Process Node and Packaging Innovations**:  \n",
      "   - Blackwell uses TSMC’s **4NP process** (an optimized version of Hopper’s 4N node) and shifts to **CoWoS-L packaging**, enabling better power efficiency and higher interconnect bandwidth for multi-chiplet designs.  \n",
      "   - These advancements address the challenges of manufacturing larger dies while improving yield and scalability.\n",
      "\n",
      "3. **Specialized AI Hardware**:  \n",
      "   - Blackwell doubles down on Hopper’s **Transformer Engine**, optimizing for low-precision (FP4/FP6) operations to reduce memory usage and accelerate transformer-based AI workloads.  \n",
      "   - New **RAVEL dynamic range management** and dedicated decompression engines further streamline AI data processing.\n",
      "\n",
      "4. **Ecosystem and Scalability**:  \n",
      "   - The **Grace Blackwell Superchip** (combining two B200 GPUs with a Grace CPU) targets hyperscale data centers, emphasizing seamless scalability for AI clusters.  \n",
      "   - Partnerships with cloud providers like AWS (via Project Ceiba) highlight Blackwell’s focus on enabling next-gen AI infrastructure in the cloud.\n",
      "\n",
      "5. **Market Leadership**:  \n",
      "   - With competitors like AMD and Intel advancing in AI accelerators, Blackwell reinforces Nvidia’s dominance by pushing architectural boundaries while maintaining software compatibility (CUDA ecosystem), ensuring customers can upgrade without major code changes.\n",
      "\n",
      "In short, Blackwell represents Nvidia’s response to the insatiable demand for more powerful, efficient AI hardware, ensuring they remain indispensable in the AI revolution.\n"
     ]
    }
   ],
   "source": [
    "for step in agent.stream(\n",
    "  {\"messages\":\"Can you research Hopper to Blackwell semiconductor transition? Nvidia is changing it's product line and I want to understand why?\"},\n",
    "   stream_mode=\"values\"\n",
    "):\n",
    "  step['messages'][-1].pretty_print()"
   ]
  },
  {
   "cell_type": "code",
   "execution_count": null,
   "metadata": {},
   "outputs": [],
   "source": []
  }
 ],
 "metadata": {
  "kernelspec": {
   "display_name": "Python 3",
   "language": "python",
   "name": "python3"
  },
  "language_info": {
   "codemirror_mode": {
    "name": "ipython",
    "version": 3
   },
   "file_extension": ".py",
   "mimetype": "text/x-python",
   "name": "python",
   "nbconvert_exporter": "python",
   "pygments_lexer": "ipython3",
   "version": "3.12.9"
  }
 },
 "nbformat": 4,
 "nbformat_minor": 2
}
