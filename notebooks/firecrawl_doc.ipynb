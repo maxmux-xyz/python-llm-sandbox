{
 "cells": [
  {
   "cell_type": "code",
   "execution_count": 2,
   "metadata": {},
   "outputs": [],
   "source": [
    "import os\n",
    "from firecrawl import FirecrawlApp\n",
    "from google import genai\n",
    "from google.genai import types\n",
    "import pathlib\n",
    "import httpx\n",
    "import json"
   ]
  },
  {
   "cell_type": "code",
   "execution_count": 5,
   "metadata": {},
   "outputs": [],
   "source": [
    "client = genai.Client(\n",
    "  api_key=os.environ['GOOGLE_API_KEY'],\n",
    ")"
   ]
  },
  {
   "cell_type": "code",
   "execution_count": 3,
   "metadata": {},
   "outputs": [],
   "source": [
    "fire = FirecrawlApp(api_key=os.environ['FIRECRAWL_API_KEY'])\n",
    "url = \"https://docs.firecrawl.dev/\"\n",
    "all_links = fire.map_url(url).get('links')[1:]\n",
    "\n",
    "# all_links"
   ]
  },
  {
   "cell_type": "code",
   "execution_count": 4,
   "metadata": {},
   "outputs": [
    {
     "data": {
      "text/plain": [
       "154"
      ]
     },
     "execution_count": 4,
     "metadata": {},
     "output_type": "execute_result"
    }
   ],
   "source": [
    "len(all_links)"
   ]
  },
  {
   "cell_type": "code",
   "execution_count": 6,
   "metadata": {},
   "outputs": [
    {
     "data": {
      "text/plain": [
       "31"
      ]
     },
     "execution_count": 6,
     "metadata": {},
     "output_type": "execute_result"
    }
   ],
   "source": [
    "def filter_api_urls(docs_links, search_query):\n",
    "  response = client.models.generate_content(\n",
    "    model='gemini-2.0-flash',\n",
    "    contents= f\"{docs_links}. \\n\\nAbove is a list of urls. Please return only the urls that are related to the REST api.\",\n",
    "    config={\n",
    "      \"response_mime_type\": \"application/json\",\n",
    "      \"response_schema\": list[str]\n",
    "    }\n",
    "  )\n",
    "  return json.loads(response.candidates[0].content.parts[0].text)\n",
    "\n",
    "api_links = filter_api_urls(all_links, \"REST api\")\n",
    "\n",
    "len(api_links)\n"
   ]
  },
  {
   "cell_type": "code",
   "execution_count": 7,
   "metadata": {},
   "outputs": [],
   "source": [
    "# Now we can use the api links to get info about firecrawl documentation\n",
    "# And pass the relevant documentation to the llm to answer question"
   ]
  },
  {
   "cell_type": "code",
   "execution_count": null,
   "metadata": {},
   "outputs": [],
   "source": []
  }
 ],
 "metadata": {
  "kernelspec": {
   "display_name": "Python 3",
   "language": "python",
   "name": "python3"
  },
  "language_info": {
   "codemirror_mode": {
    "name": "ipython",
    "version": 3
   },
   "file_extension": ".py",
   "mimetype": "text/x-python",
   "name": "python",
   "nbconvert_exporter": "python",
   "pygments_lexer": "ipython3",
   "version": "3.12.9"
  }
 },
 "nbformat": 4,
 "nbformat_minor": 2
}
