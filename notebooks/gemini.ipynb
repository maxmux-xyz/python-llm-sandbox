{
 "cells": [
  {
   "cell_type": "code",
   "execution_count": 1,
   "metadata": {},
   "outputs": [],
   "source": [
    "import os\n",
    "from firecrawl import FirecrawlApp\n",
    "from google import genai\n",
    "from google.genai import types\n",
    "import pathlib\n",
    "import httpx\n",
    "import json"
   ]
  },
  {
   "cell_type": "code",
   "execution_count": 2,
   "metadata": {},
   "outputs": [],
   "source": [
    "client = genai.Client(\n",
    "  api_key=os.environ['GOOGLE_API_KEY'],\n",
    ")"
   ]
  },
  {
   "cell_type": "code",
   "execution_count": 3,
   "metadata": {},
   "outputs": [],
   "source": [
    "doc_url = 'https://arxiv.org/pdf/2412.15605v1'"
   ]
  },
  {
   "cell_type": "code",
   "execution_count": null,
   "metadata": {},
   "outputs": [
    {
     "data": {
      "text/plain": [
       "121164"
      ]
     },
     "execution_count": 4,
     "metadata": {},
     "output_type": "execute_result"
    }
   ],
   "source": [
    "filepath = pathlib.Path('./data/file.pdf')\n",
    "filepath.write_bytes(httpx.get(doc_url).content)"
   ]
  },
  {
   "cell_type": "code",
   "execution_count": 5,
   "metadata": {},
   "outputs": [],
   "source": [
    "prompt = \"who are the authors\"\n",
    "response = client.models.generate_content(\n",
    "  model='gemini-2.0-flash',\n",
    "  contents=[\n",
    "    types.Part.from_bytes(\n",
    "      data=filepath.read_bytes(),\n",
    "      mime_type='application/pdf'\n",
    "    ),\n",
    "    prompt\n",
    "  ]\n",
    ")"
   ]
  },
  {
   "cell_type": "code",
   "execution_count": 6,
   "metadata": {},
   "outputs": [
    {
     "name": "stdout",
     "output_type": "stream",
     "text": [
      "The authors are:\n",
      "\n",
      "*   Brian J Chan\n",
      "*   Chao-Ting Chen\n",
      "*   Jui-Hung Cheng\n",
      "*   Hen-Hsen Huang\n"
     ]
    }
   ],
   "source": [
    "print(response.text)"
   ]
  },
  {
   "cell_type": "code",
   "execution_count": 7,
   "metadata": {},
   "outputs": [],
   "source": [
    "fire = FirecrawlApp(api_key=os.environ['FIRECRAWL_API_KEY'])\n",
    "url = \"https://docs.firecrawl.dev/\"\n",
    "all_links = fire.map_url(url).get('links')[1:]\n",
    "\n",
    "# all_links"
   ]
  },
  {
   "cell_type": "code",
   "execution_count": 8,
   "metadata": {},
   "outputs": [
    {
     "data": {
      "text/plain": [
       "154"
      ]
     },
     "execution_count": 8,
     "metadata": {},
     "output_type": "execute_result"
    }
   ],
   "source": [
    "len(all_links)"
   ]
  },
  {
   "cell_type": "code",
   "execution_count": 9,
   "metadata": {},
   "outputs": [
    {
     "data": {
      "text/plain": [
       "30"
      ]
     },
     "execution_count": 9,
     "metadata": {},
     "output_type": "execute_result"
    }
   ],
   "source": [
    "def filter_api_urls(docs_links, search_query):\n",
    "  response = client.models.generate_content(\n",
    "    model='gemini-2.0-flash',\n",
    "    contents= f\"{docs_links}. \\n\\nAbove is a list of urls. Please return only the urls that are related to the REST api.\",\n",
    "    config={\n",
    "      \"response_mime_type\": \"application/json\",\n",
    "      \"response_schema\": list[str]\n",
    "    }\n",
    "  )\n",
    "  return json.loads(response.candidates[0].content.parts[0].text)\n",
    "\n",
    "api_links = filter_api_urls(all_links, \"REST api\")\n",
    "\n",
    "len(api_links)\n"
   ]
  },
  {
   "cell_type": "code",
   "execution_count": 10,
   "metadata": {},
   "outputs": [
    {
     "data": {
      "text/plain": [
       "['https://docs.firecrawl.dev/api-reference/introduction',\n",
       " 'https://docs.firecrawl.dev/api-reference/endpoint/search',\n",
       " 'https://docs.firecrawl.dev/api-reference/endpoint/extract',\n",
       " 'https://docs.firecrawl.dev/api-reference/endpoint/scrape',\n",
       " 'https://docs.firecrawl.dev/api-reference/endpoint/map',\n",
       " 'https://docs.firecrawl.dev/v0/api-reference/introduction',\n",
       " 'https://docs.firecrawl.dev/api-reference/endpoint/crawl-get',\n",
       " 'https://docs.firecrawl.dev/api-reference/endpoint/batch-scrape',\n",
       " 'https://docs.firecrawl.dev/api-reference/endpoint/crawl-delete',\n",
       " 'https://docs.firecrawl.dev/api-reference/endpoint/crawl-post',\n",
       " 'https://docs.firecrawl.dev/api-reference/endpoint/extract-get',\n",
       " 'https://docs.firecrawl.dev/api-reference/endpoint/batch-scrape-get',\n",
       " 'https://docs.firecrawl.dev/api-reference/endpoint/crawl-get-errors',\n",
       " 'https://docs.firecrawl.dev/v0/api-reference/endpoint/crawl-cancel',\n",
       " 'https://docs.firecrawl.dev/api-reference/endpoint/batch-scrape-get-errors',\n",
       " 'http://docs.firecrawl.dev/v0/api-reference/endpoint/crawl',\n",
       " 'http://docs.firecrawl.dev/v0/api-reference/endpoint/scrape',\n",
       " 'http://docs.firecrawl.dev/v0/api-reference/endpoint/search',\n",
       " 'http://docs.firecrawl.dev/v0/api-reference/endpoint/status',\n",
       " 'http://docs.firecrawl.dev/api-reference/endpoint/credit-usage',\n",
       " 'http://docs.firecrawl.dev/api-reference/endpoint/llm-extract',\n",
       " 'http://docs.firecrawl.dev/v0/api-reference/endpoint/llm-extract',\n",
       " 'http://docs.firecrawl.dev/api-reference/introduction\"',\n",
       " 'http://docs.firecrawl.dev/api-reference/endpoint/crawl-post?playground=open',\n",
       " 'http://docs.firecrawl.dev/api-reference/endpoint/llmstxt',\n",
       " 'http://docs.firecrawl.dev/api-reference/endpoint/llmstxt-get',\n",
       " 'http://docs.firecrawl.dev/api-reference/endpoint',\n",
       " 'http://docs.firecrawl.dev/api-reference/endpoint/map?playground=open',\n",
       " 'http://docs.firecrawl.dev/api-reference/endpoint/deep-research',\n",
       " 'http://docs.firecrawl.dev/api-reference/endpoint/deep-research-get']"
      ]
     },
     "execution_count": 10,
     "metadata": {},
     "output_type": "execute_result"
    }
   ],
   "source": [
    "api_links"
   ]
  },
  {
   "cell_type": "code",
   "execution_count": 11,
   "metadata": {},
   "outputs": [],
   "source": [
    "# Now we can use the api links to get info about firecrawl documentation\n",
    "# And pass the relevant documentation to the llm to answer question"
   ]
  },
  {
   "cell_type": "code",
   "execution_count": null,
   "metadata": {},
   "outputs": [],
   "source": []
  }
 ],
 "metadata": {
  "kernelspec": {
   "display_name": "Python 3",
   "language": "python",
   "name": "python3"
  },
  "language_info": {
   "codemirror_mode": {
    "name": "ipython",
    "version": 3
   },
   "file_extension": ".py",
   "mimetype": "text/x-python",
   "name": "python",
   "nbconvert_exporter": "python",
   "pygments_lexer": "ipython3",
   "version": "3.12.9"
  }
 },
 "nbformat": 4,
 "nbformat_minor": 2
}
