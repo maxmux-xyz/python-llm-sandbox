{
 "cells": [
  {
   "cell_type": "code",
   "execution_count": 1,
   "metadata": {},
   "outputs": [],
   "source": [
    "import os\n",
    "from google import genai\n",
    "from google.genai import types\n",
    "import pathlib\n",
    "import httpx"
   ]
  },
  {
   "cell_type": "code",
   "execution_count": 2,
   "metadata": {},
   "outputs": [],
   "source": [
    "client = genai.Client(\n",
    "  api_key=os.environ['GOOGLE_API_KEY'],\n",
    ")"
   ]
  },
  {
   "cell_type": "code",
   "execution_count": 3,
   "metadata": {},
   "outputs": [],
   "source": [
    "# doc_url = 'https://arxiv.org/pdf/2412.15605v1'\n",
    "filepath = pathlib.Path('./data/ontheedge.pdf')\n",
    "# filepath.write_bytes(httpx.get(doc_url).content)"
   ]
  },
  {
   "cell_type": "code",
   "execution_count": 4,
   "metadata": {},
   "outputs": [],
   "source": [
    "prompt = \"Summarize this document\"\n",
    "response = client.models.generate_content(\n",
    "  model='gemini-2.0-flash',\n",
    "  contents=[\n",
    "    types.Part.from_bytes(\n",
    "      data=filepath.read_bytes(),\n",
    "      mime_type='application/pdf'\n",
    "    ),\n",
    "    prompt\n",
    "  ]\n",
    ")"
   ]
  },
  {
   "cell_type": "code",
   "execution_count": 8,
   "metadata": {},
   "outputs": [
    {
     "name": "stdout",
     "output_type": "stream",
     "text": [
      "Here is a summary of the provided text, which is a book outline and excerpt from \"On the Edge\" by Nate Silver:\n",
      "\n",
      "*   **Premise:** The book delves into the world of risk-taking, gambling, and decision-making in environments ranging from poker to finance and technology, exploring both their mathematical underpinnings and psychological aspects. It seeks to understand how individuals and institutions assess and manage risk and explores the \"River,\" a metaphor for a group of people who engage in calculated risk.\n",
      "*   **Introduction:** The introduction sets the scene with the author's experience in casinos and poker tournaments, highlighting how COVID-19 affected risk preferences and the importance of understanding algorithms in the modern world. It introduces the key concept of \"+EV,\" or positive expected value.\n",
      "*   **Outline:** The book is divided into two main parts: \"Gambling\" and \"Risk.\" \"Gambling\" covers poker, casino businesses, and sports betting. \"Risk\" discusses venture capital, the implosion of Sam Bankman-Fried (SBF) and FTX, and Al risks. The book also explores related intellectual movements, including rationalism and effective altruism.\n",
      "*   **Key Themes:** The text emphasizes analytical reasoning, contrarian thinking, competition, and risk tolerance as crucial traits for success in the River. It also discusses the dichotomy between what Silver calls \"the Village,\" representing government, media, and traditional institutions, and the River, representing risk-takers and innovators.\n",
      "*   **Content:** The excerpted section then goes on to discuss the technical aspects of poker (Texas Hold'em) as a background into what Silver explores later in his work.\n",
      "*   **Additional Context:** The author plans to explore both poker and high-stakes gambles more broadly while detailing the \"algorithmic optimization\" of casinos and highlighting important details about high rollers and their often counterintuitive or contradictory behavior.\n",
      "*   **About The Author:** Nate Silver is the founder of FiveThirtyEight and the New York Times bestselling author of The Signal and the Noise. He writes the Substack \"Silver Bulletin.\"\n"
     ]
    }
   ],
   "source": [
    "print(response.text)"
   ]
  },
  {
   "cell_type": "code",
   "execution_count": null,
   "metadata": {},
   "outputs": [],
   "source": []
  }
 ],
 "metadata": {
  "kernelspec": {
   "display_name": "Python 3",
   "language": "python",
   "name": "python3"
  },
  "language_info": {
   "codemirror_mode": {
    "name": "ipython",
    "version": 3
   },
   "file_extension": ".py",
   "mimetype": "text/x-python",
   "name": "python",
   "nbconvert_exporter": "python",
   "pygments_lexer": "ipython3",
   "version": "3.12.9"
  }
 },
 "nbformat": 4,
 "nbformat_minor": 2
}
