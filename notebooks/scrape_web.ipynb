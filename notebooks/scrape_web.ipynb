{
 "cells": [
  {
   "cell_type": "code",
   "execution_count": 1,
   "metadata": {},
   "outputs": [],
   "source": [
    "import os\n",
    "from firecrawl import FirecrawlApp\n",
    "from google import genai\n",
    "from google.genai import types\n",
    "import pathlib\n",
    "import httpx\n",
    "import json"
   ]
  },
  {
   "cell_type": "code",
   "execution_count": 2,
   "metadata": {},
   "outputs": [],
   "source": [
    "client = genai.Client(\n",
    "  api_key=os.environ['GOOGLE_API_KEY'],\n",
    ")"
   ]
  },
  {
   "cell_type": "code",
   "execution_count": 8,
   "metadata": {},
   "outputs": [],
   "source": [
    "fire = FirecrawlApp(api_key=os.environ['FIRECRAWL_API_KEY'])\n",
    "url = \"https://www.itbrew.com/stories/2025/04/04/as-tariffs-pummel-tech-stocks-analysts-consider-impact-on-it-pros\"\n",
    "\n",
    "# Scrape the page\n",
    "result = fire.scrape_url(url, {\n",
    "    'formats': ['markdown', 'html']\n",
    "})\n",
    "\n"
   ]
  },
  {
   "cell_type": "code",
   "execution_count": 11,
   "metadata": {},
   "outputs": [
    {
     "data": {
      "text/plain": [
       "dict_keys(['markdown', 'metadata', 'html'])"
      ]
     },
     "execution_count": 11,
     "metadata": {},
     "output_type": "execute_result"
    }
   ],
   "source": [
    "result.keys()"
   ]
  },
  {
   "cell_type": "code",
   "execution_count": null,
   "metadata": {},
   "outputs": [],
   "source": [
    "result['html']"
   ]
  },
  {
   "cell_type": "code",
   "execution_count": 12,
   "metadata": {},
   "outputs": [
    {
     "data": {
      "text/plain": [
       "'[Skip to main content](https://www.itbrew.com/stories/2025/04/04/as-tariffs-pummel-tech-stocks-analysts-consider-impact-on-it-pros#main-content)\\n\\n[Hardware](https://www.itbrew.com/tag/hardware)\\n\\n# As tariffs pummel tech stocks, analysts consider impact on IT pros\\n\\nPros consider how new levies will impact buying decisions.\\n\\n![Birds eye view of a worker looking at computer in warehouse (Credit: Kmatta/Getty Images)](https://cdn.sanity.io/images/bl383u0v/production/bd21256c2fc6dd574db86591d4c36266c3c38417-1500x1000.jpg?rect=0,0,1499,1000&w=1000&h=667&q=80&fit=max&auto=format&dpr=1)\\n\\nKmatta/Getty Images\\n\\nBy [Billy Hurley](https://www.itbrew.com/contributor/BillyHurley)\\n\\nApril 4, 2025\\n• 4 min read\\n\\nIf you’re an IT professional, a lot of the companies supplying your hardware and software had a rough day Thursday.\\n\\nFollowing President Trump’s latest tariff declaration on April 2, [tech values slid](https://www.cnbc.com/2025/04/03/tech-stocks-sink-after-trump-tariff-rollout-apple-leads-drop.html) and the “Magnificent 7” stocks—which includes companies like Alphabet, Microsoft, and Amazon—not-so-magnificently lost [over a trillion dollars](https://www.cnbc.com/2025/04/03/mag-7-relinquishes-more-than-800-billion-as-tech-drives-stock-market-nosedive.html) in Thursday trading.\\n\\nIn addition to a 10% baseline tariff on US imports from nearly all countries, Trump announced, via a posterboard big enough to hide an NFL coach’s questionable play calls, [additional levies](https://www.newsweek.com/trump-reciprocal-tariff-chart-2054514) on many other trading partners.\\n\\nMarket analysts who spoke with IT Brew are looking ahead to consider how the volatility might impact the prices of IT hardware and software—if at all.\\n\\n“How much something like hardware could go up, we’re sort of gaming this out and seeing that companies are probably going to eat their margins…when it comes to physical things like chips and other tech parts, but I have a hard time seeing tariffs impacting software pricing,” Lily Taft, partner and portfolio manager at Main Street Research, said.\\n\\n“I think it’s not going to impact IT buying decisions, unless we see this unfold into a true economic slowdown,” she added, predicting that an economic dropoff is a “low probability.”\\n\\n(Goldman Sachs, FWIW, recently bumped up its odds of a recession [to 35%](https://www.npr.org/2025/04/01/nx-s1-5345764/goldman-sachs-raises-probability-of-a-u-s-recession-to-35), from a previous guesstimate of 20% in August.)\\n\\n**Stock pile.** Thursday saw decreases among big tech stocks—with Apple [erasing $310 billion](https://finance.yahoo.com/news/apple-sheds-over-300-billion-in-tariff-fueled-sell-off-notches-worst-drop-since-march-2020-202710020.html) of market capital, given analyst concerns of its overseas production. Other notable decreases included Amazon (dropping almost [9%](https://finance.yahoo.com/news/why-amazon-amzn-shares-trading-170116357.html) from its previous close), Microsoft (down 2%), and Google (just under 4%).\\n\\nMorgan Stanley’s Managing Director for Equity Research Erik Woodring told CNBC Thursday, in a conversation largely about iPhones, that “to offset the cost of these tariffs in the US,” Apple would have to raise prices across the board by [17 or 18%](https://www.cnbc.com/video/2025/04/03/apple-plummets-on-trump-tariffs-heres-what-you-need-to-know.html).\\n\\nTaft and her team estimate, though, that companies will not drive up the price of hardware like an enterprise laptop and that vendors will likely take on any tariff-related cost increases.\\n\\n##### Top insights for IT pros\\n\\nFrom cybersecurity and big data to cloud computing, IT Brew covers the latest trends shaping business tech in our 4x weekly newsletter, virtual events with industry experts, and digital guides.\\n\\nSubscribe\\n\\n“If they don’t eat their cost, maybe a competitor will, and then you lose that customer, potentially for the long term,” Taft said.\\n\\n**I’m buying IT!** In November 2024, tech market analyst firm Canalys predicted an 8% increase in [IT spending for 2025](https://www.canalys.com/insights/it-spending-forecasts-2025), including PCs, AI-powered software, and cybersecurity, “despite the emergence of new economic and political uncertainties following the 2024 global elections super-cycle.”\\n\\nRick Villars, group VP of worldwide research at IDC, has seen companies anticipating higher prices and spending early to account for volatility.\\n\\n“Some procurement teams have done that purchase in advance for devices, for servers, for other systems, to get ahead a little bit,” Villars said. “Nobody’s stockpiling years of that, but you can basically minimize the cost impact for the next three to six months, and hope that this won’t be a sustained, ongoing thing, and that there’ll be adjustments.”\\n\\nTariffs are usually applied to physical goods—products like heavy machinery and lumber, rather than software licenses purchased digitally. While Taft sees a risk of slower growth for software companies if there were a significant economic downturn, she doesn’t see software prices increasing for the average IT pro as things currently stand.\\n\\n“I think a lot of these software companies, maybe they have small competitive advantages in certain niche areas, but ultimately, consumers have a lot of power and the ability to switch pretty easily,” Taft told us.\\n\\nWhile Villars noted that companies may absorb costs to maintain long-term revenue streams, he envisions a greater impact to IT professionals beyond price and procurement. He sees business concerns related to supply-chain volatility driving new technology decisions at a company—speeding up choices related to automating with AI or modernizing legacy systems.\\n\\n“No matter what business you are in, if you have physical assets, you will be considering the supply chain and \\\\[asking\\\\], ‘Can we optimize and automate certain parts of that process?’”\\n\\nCopy\\n\\n## You might also like...\\n\\n[![An image of hands working at different laptops](https://cdn.sanity.io/images/bl383u0v/production/781a5c7336068a7b0413bbe5a68d44059b02ea40-5040x3360.jpg?w=400&q=70&auto=format&dpr=1)\\\\\\\\\\n\\\\\\\\\\nSoftware **Software spotlight: A look at Snipe-IT’s asset management style**](https://www.itbrew.com/stories/2025/03/19/software-spotlight-a-look-at-snipe-it-s-asset-management-style) [![Two shipping containers, one red and one blue, held up by crane hooks](https://cdn.sanity.io/images/bl383u0v/production/8a1339f05f0845e2d6144912735a0a1d3d54ae50-1500x1000.png?w=400&q=70&auto=format&dpr=1)\\\\\\\\\\n\\\\\\\\\\nIT Operations **Tariffs: Understanding the impact**](https://www.itbrew.com/stories/c/the-impact-of-tariffs) [![](https://cdn.sanity.io/images/bl383u0v/production/35443281cac561f076049222324421153cb86f46-1500x1000.png?w=400&q=70&auto=format&dpr=1)\\\\\\\\\\n\\\\\\\\\\nOn-Demand Webinar **Cloud Conversations with Forrest Brazeal and Rubrik**](https://www.itbrew.com/events/cloud-conversations-2025)\\n\\n### Top insights for IT pros\\n\\nFrom cybersecurity and big data to cloud computing, IT Brew covers the latest trends shaping business tech in our 4x weekly newsletter, virtual events with industry experts, and digital guides.\\n\\nSubscribe\\n\\n[iframe](https://td.doubleclick.net/td/ga/rul?tid=G-RNCB3Z9K1M&gacid=1033760148.1743799981&gtm=45je5421v896743500za200&dma=0&gcd=13l3l3l3l1l1&npa=0&pscdl=noapi&aip=1&fledge=1&frm=0&tag_exp=102788824~102803279~102813109~102887800~102926062~102975949~103016951~103021830~103027016&z=269325293)'"
      ]
     },
     "execution_count": 12,
     "metadata": {},
     "output_type": "execute_result"
    }
   ],
   "source": [
    "result['markdown']"
   ]
  },
  {
   "cell_type": "code",
   "execution_count": 13,
   "metadata": {},
   "outputs": [],
   "source": [
    "response = client.models.generate_content(\n",
    "  model='gemini-2.0-flash',\n",
    "  contents= f\"FULL WEB PAGE MARKDOWN:\\n\\n{result['markdown']}. \\n\\n#######################\\n\\nYour are a helpful assistant that can summarize the web page and answer questions. Give a breif summary.\",\n",
    "  config={\n",
    "    \"response_mime_type\": \"application/json\",\n",
    "    \"response_schema\": list[str]\n",
    "  }\n",
    ")"
   ]
  },
  {
   "cell_type": "code",
   "execution_count": 14,
   "metadata": {},
   "outputs": [
    {
     "data": {
      "text/plain": [
       "GenerateContentResponse(candidates=[Candidate(content=Content(parts=[Part(video_metadata=None, thought=None, code_execution_result=None, executable_code=None, file_data=None, function_call=None, function_response=None, inline_data=None, text='[\\n  \"The article discusses the potential impact of President Trump\\'s new tariffs on the tech industry and IT professionals. It explores how these tariffs might affect the prices of IT hardware and software, and the buying decisions of IT professionals. Analysts suggest that companies may absorb the tariff-related costs to avoid losing customers, but some anticipate companies might spend early to account for volatility. The article also touches on how supply chain volatility could drive new technology decisions related to automation and modernization.\"\\n]')], role='model'), citation_metadata=None, finish_message=None, token_count=None, finish_reason=<FinishReason.STOP: 'STOP'>, avg_logprobs=-0.1663784494205397, grounding_metadata=None, index=None, logprobs_result=None, safety_ratings=None)], create_time=None, response_id=None, model_version='gemini-2.0-flash', prompt_feedback=None, usage_metadata=GenerateContentResponseUsageMetadata(cache_tokens_details=None, cached_content_token_count=None, candidates_token_count=98, candidates_tokens_details=[ModalityTokenCount(modality=<MediaModality.TEXT: 'TEXT'>, token_count=98)], prompt_token_count=2339, prompt_tokens_details=[ModalityTokenCount(modality=<MediaModality.TEXT: 'TEXT'>, token_count=2339)], thoughts_token_count=None, tool_use_prompt_token_count=None, tool_use_prompt_tokens_details=None, total_token_count=2437), automatic_function_calling_history=[], parsed=[\"The article discusses the potential impact of President Trump's new tariffs on the tech industry and IT professionals. It explores how these tariffs might affect the prices of IT hardware and software, and the buying decisions of IT professionals. Analysts suggest that companies may absorb the tariff-related costs to avoid losing customers, but some anticipate companies might spend early to account for volatility. The article also touches on how supply chain volatility could drive new technology decisions related to automation and modernization.\"])"
      ]
     },
     "execution_count": 14,
     "metadata": {},
     "output_type": "execute_result"
    }
   ],
   "source": [
    "response"
   ]
  },
  {
   "cell_type": "code",
   "execution_count": 18,
   "metadata": {},
   "outputs": [
    {
     "name": "stdout",
     "output_type": "stream",
     "text": [
      "[\n",
      "  \"The article discusses the potential impact of President Trump's new tariffs on the tech industry and IT professionals. It explores how these tariffs might affect the prices of IT hardware and software, and the buying decisions of IT professionals. Analysts suggest that companies may absorb the tariff-related costs to avoid losing customers, but some anticipate companies might spend early to account for volatility. The article also touches on how supply chain volatility could drive new technology decisions related to automation and modernization.\"\n",
      "]\n",
      "----------------------------------------------------------------------------------------------------\n"
     ]
    }
   ],
   "source": [
    "response.candidates[0].content.parts\n",
    "for part in response.candidates[0].content.parts:\n",
    "  print(part.text)\n",
    "  print('-'*100)\n"
   ]
  },
  {
   "cell_type": "code",
   "execution_count": null,
   "metadata": {},
   "outputs": [],
   "source": []
  }
 ],
 "metadata": {
  "kernelspec": {
   "display_name": "Python 3",
   "language": "python",
   "name": "python3"
  },
  "language_info": {
   "codemirror_mode": {
    "name": "ipython",
    "version": 3
   },
   "file_extension": ".py",
   "mimetype": "text/x-python",
   "name": "python",
   "nbconvert_exporter": "python",
   "pygments_lexer": "ipython3",
   "version": "3.12.9"
  }
 },
 "nbformat": 4,
 "nbformat_minor": 2
}
